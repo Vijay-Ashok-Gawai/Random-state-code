{
 "cells": [
  {
   "cell_type": "markdown",
   "id": "0595c7d1",
   "metadata": {},
   "source": [
    "## Bestest code for Random_state"
   ]
  },
  {
   "cell_type": "code",
   "execution_count": null,
   "id": "c2b09768",
   "metadata": {},
   "outputs": [],
   "source": [
    "for transaction\n",
    "from scipy import stats\n",
    "data['Fare'], lmbda = stats.yeojohnson(data['Fare'])"
   ]
  },
  {
   "cell_type": "code",
   "execution_count": 1,
   "id": "8f6d3ef5",
   "metadata": {},
   "outputs": [
    {
     "ename": "NameError",
     "evalue": "name 'X' is not defined",
     "output_type": "error",
     "traceback": [
      "\u001b[1;31m---------------------------------------------------------------------------\u001b[0m",
      "\u001b[1;31mNameError\u001b[0m                                 Traceback (most recent call last)",
      "Cell \u001b[1;32mIn[1], line 7\u001b[0m\n\u001b[0;32m      4\u001b[0m \u001b[38;5;28;01mfor\u001b[39;00m i \u001b[38;5;129;01min\u001b[39;00m \u001b[38;5;28mrange\u001b[39m(\u001b[38;5;241m0\u001b[39m,\u001b[38;5;241m101\u001b[39m):\n\u001b[0;32m      6\u001b[0m     \u001b[38;5;28;01mfrom\u001b[39;00m \u001b[38;5;21;01msklearn\u001b[39;00m\u001b[38;5;21;01m.\u001b[39;00m\u001b[38;5;21;01mmodel_selection\u001b[39;00m \u001b[38;5;28;01mimport\u001b[39;00m train_test_split\n\u001b[1;32m----> 7\u001b[0m     X_train,X_test,y_train,y_test \u001b[38;5;241m=\u001b[39m train_test_split(X,y,test_size\u001b[38;5;241m=\u001b[39m\u001b[38;5;241m0.2\u001b[39m,random_state\u001b[38;5;241m=\u001b[39mi)\n\u001b[0;32m      9\u001b[0m     \u001b[38;5;28;01mfrom\u001b[39;00m \u001b[38;5;21;01msklearn\u001b[39;00m\u001b[38;5;21;01m.\u001b[39;00m\u001b[38;5;21;01mlinear_model\u001b[39;00m \u001b[38;5;28;01mimport\u001b[39;00m LogisticRegression \n\u001b[0;32m     10\u001b[0m     log_default\u001b[38;5;241m=\u001b[39m LogisticRegression()\n",
      "\u001b[1;31mNameError\u001b[0m: name 'X' is not defined"
     ]
    }
   ],
   "source": [
    "Train=[]\n",
    "Test=[]\n",
    "CV=[]\n",
    "for i in range(0,101):\n",
    "  \n",
    "    from sklearn.model_selection import train_test_split\n",
    "    X_train,X_test,y_train,y_test = train_test_split(X,y,test_size=0.2,random_state=i)\n",
    "   \n",
    "    from sklearn.linear_model import LogisticRegression \n",
    "    log_default= LogisticRegression()\n",
    "    log_default.fit(X_train,y_train)\n",
    "    \n",
    "    ypred_train=log_default.predict(X_train)\n",
    "    ypred_test=log_default.predict(X_test)\n",
    "    \n",
    "    from sklearn.metrics import accuracy_score\n",
    "    Train.append(accuracy_score(y_train, ypred_train))\n",
    "    Test.append(accuracy_score(y_test, ypred_test))\n",
    "    \n",
    "    from sklearn.model_selection import cross_val_score\n",
    "    CV.append(cross_val_score(log_default,X_train,y_train,cv=5,scoring='accuracy').mean())\n",
    "    \n",
    "em = pd.DataFrame({'Train':Train,'Test':Test,'CV':CV})\n",
    "gm = em[(abs(em['Train']-em['Test'])<=0.05) & (abs(em['Test']-em['CV'])<=0.05)]\n",
    "rs=gm[gm[\"CV\"]==gm[\"CV\"].max()].index.to_list()[0]\n",
    "print(\"best random_state number:\",rs)   "
   ]
  },
  {
   "cell_type": "code",
   "execution_count": 1,
   "id": "fa038c61",
   "metadata": {},
   "outputs": [
    {
     "ename": "NameError",
     "evalue": "name 'X' is not defined",
     "output_type": "error",
     "traceback": [
      "\u001b[1;31m---------------------------------------------------------------------------\u001b[0m",
      "\u001b[1;31mNameError\u001b[0m                                 Traceback (most recent call last)",
      "Cell \u001b[1;32mIn[1], line 11\u001b[0m\n\u001b[0;32m      8\u001b[0m \u001b[38;5;28;01mfor\u001b[39;00m i \u001b[38;5;129;01min\u001b[39;00m \u001b[38;5;28mrange\u001b[39m(\u001b[38;5;241m0\u001b[39m,\u001b[38;5;241m100\u001b[39m):\n\u001b[0;32m      9\u001b[0m     model\u001b[38;5;241m=\u001b[39m ElasticNet()\n\u001b[1;32m---> 11\u001b[0m     X_train,X_test,y_train,y_test \u001b[38;5;241m=\u001b[39m train_test_split(X,y,test_size\u001b[38;5;241m=\u001b[39m\u001b[38;5;241m0.8\u001b[39m,random_state\u001b[38;5;241m=\u001b[39mi)\n\u001b[0;32m     12\u001b[0m     model\u001b[38;5;241m.\u001b[39mfit(X_train,y_train)\n\u001b[0;32m     14\u001b[0m     ypred_train\u001b[38;5;241m=\u001b[39mmodel\u001b[38;5;241m.\u001b[39mpredict(X_train)\n",
      "\u001b[1;31mNameError\u001b[0m: name 'X' is not defined"
     ]
    }
   ],
   "source": [
    "from sklearn.model_selection import train_test_split\n",
    "from sklearn.model_selection import cross_val_score\n",
    "from sklearn.linear_model import ElasticNet\n",
    "from sklearn.metrics import r2_score\n",
    "train=[]\n",
    "test=[]\n",
    "cv=[]\n",
    "for i in range(0,100):\n",
    "    model= ElasticNet()\n",
    "    \n",
    "    X_train,X_test,y_train,y_test = train_test_split(X,y,test_size=0.8,random_state=i)\n",
    "    model.fit(X_train,y_train)\n",
    "    \n",
    "    ypred_train=model.predict(X_train)\n",
    "    ypred_test=model.predict(X_test)\n",
    "    \n",
    "    \n",
    "    train.append(model.score(X_train,y_train))\n",
    "    test.append(model.score(X_test,y_test))\n",
    "    cv.append(cross_val_score(model,X_train,y_train , cv=5).mean())\n",
    "    \n",
    "em = pd.DataFrame({'train':train,'test':test,'cv':cv})\n",
    "gm = em[(abs(em['train']-em['test'])<=0.05) & (abs(em['test']-em['cv'])<=0.05)]\n",
    "print(\"best random state number :\",gm[gm['test']==gm['test'].max()].index.to_list())    "
   ]
  },
  {
   "cell_type": "code",
   "execution_count": null,
   "id": "8c8fe73d",
   "metadata": {},
   "outputs": [],
   "source": [
    "from sklearn.model_selection import train_test_split\n",
    "from sklearn.model_selection import cross_val_score\n",
    "from sklearn.linear_model import ElasticNet\n",
    "from sklearn.metrics import r2_score\n",
    "train=[]\n",
    "test=[]\n",
    "cv=[]\n",
    "for i in range(0,100):\n",
    "    model= ElasticNet()\n",
    "    \n",
    "    X_train,X_test,y_train,y_test = train_test_split(X,y,test_size=0.8,random_state=i)\n",
    "    model.fit(X_train,y_train)\n",
    "    \n",
    "    ypred_train=model.predict(X_train)\n",
    "    ypred_test=model.predict(X_test)\n",
    "    \n",
    "    \n",
    "    train.append(model.score(X_train,y_train))\n",
    "    test.append(model.score(X_test,y_test))\n",
    "    cv.append(cross_val_score(model,X_train,y_train , cv=5).mean())\n",
    "    \n",
    "em = pd.DataFrame({'train':train,'test':test,'cv':cv})\n",
    "gm = em[(abs(em['train']-em['test'])<=0.05) & (abs(em['test']-em['cv'])<=0.05)]\n",
    "print(\"best random state number :\",gm[gm['test']==gm['test'].max()].index.to_list())    "
   ]
  },
  {
   "cell_type": "code",
   "execution_count": null,
   "id": "7e7c4048",
   "metadata": {},
   "outputs": [],
   "source": [
    "from sklearn.model_selection import train_test_split\n",
    "from sklearn.model_selection import cross_val_score\n",
    "from sklearn.linear_model import ElasticNet\n",
    "from sklearn.metrics import r2_score\n",
    "train=[]\n",
    "test=[]\n",
    "cv=[]\n",
    "for i in range(0,100):\n",
    "    model= ElasticNet()\n",
    "    \n",
    "    X_train,X_test,y_train,y_test = train_test_split(X,y,test_size=0.8,random_state=i)\n",
    "    model.fit(X_train,y_train)\n",
    "    \n",
    "    ypred_train=model.predict(X_train)\n",
    "    ypred_test=model.predict(X_test)\n",
    "    \n",
    "    \n",
    "    train.append(model.score(X_train,y_train))\n",
    "    test.append(model.score(X_test,y_test))\n",
    "    cv.append(cross_val_score(model,X_train,y_train , cv=5).mean())\n",
    "    \n",
    "em = pd.DataFrame({'train':train,'test':test,'cv':cv})\n",
    "gm = em[(abs(em['train']-em['test'])<=0.05) & (abs(em['test']-em['cv'])<=0.05)]\n",
    "print(\"best random state number :\",gm[gm['test']==gm['test'].max()].index.to_list())    "
   ]
  },
  {
   "cell_type": "code",
   "execution_count": null,
   "id": "5c886d00",
   "metadata": {},
   "outputs": [],
   "source": [
    "from sklearn.model_selection import train_test_split\n",
    "from sklearn.model_selection import cross_val_score\n",
    "from sklearn.linear_model import ElasticNet\n",
    "from sklearn.metrics import r2_score\n",
    "train=[]\n",
    "test=[]\n",
    "cv=[]\n",
    "for i in range(0,100):\n",
    "    model= ElasticNet()\n",
    "    \n",
    "    X_train,X_test,y_train,y_test = train_test_split(X,y,test_size=0.8,random_state=i)\n",
    "    model.fit(X_train,y_train)\n",
    "    \n",
    "    ypred_train=model.predict(X_train)\n",
    "    ypred_test=model.predict(X_test)\n",
    "    \n",
    "    \n",
    "    train.append(model.score(X_train,y_train))\n",
    "    test.append(model.score(X_test,y_test))\n",
    "    cv.append(cross_val_score(model,X_train,y_train , cv=5).mean())\n",
    "    \n",
    "em = pd.DataFrame({'train':train,'test':test,'cv':cv})\n",
    "gm = em[(abs(em['train']-em['test'])<=0.05) & (abs(em['test']-em['cv'])<=0.05)]\n",
    "print(\"best random state number :\",gm[gm['test']==gm['test'].max()].index.to_list())    "
   ]
  },
  {
   "cell_type": "code",
   "execution_count": null,
   "id": "5772297e",
   "metadata": {},
   "outputs": [],
   "source": []
  }
 ],
 "metadata": {
  "kernelspec": {
   "display_name": "Python 3 (ipykernel)",
   "language": "python",
   "name": "python3"
  },
  "language_info": {
   "codemirror_mode": {
    "name": "ipython",
    "version": 3
   },
   "file_extension": ".py",
   "mimetype": "text/x-python",
   "name": "python",
   "nbconvert_exporter": "python",
   "pygments_lexer": "ipython3",
   "version": "3.11.5"
  }
 },
 "nbformat": 4,
 "nbformat_minor": 5
}
